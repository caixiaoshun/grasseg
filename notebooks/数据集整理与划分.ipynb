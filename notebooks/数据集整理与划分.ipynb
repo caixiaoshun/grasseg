{
 "cells": [
  {
   "cell_type": "code",
   "execution_count": 1,
   "metadata": {},
   "outputs": [],
   "source": [
    "import os\n",
    "from glob import glob\n",
    "from typing import List, Literal\n",
    "import shutil\n",
    "import json\n",
    "import numpy as np\n",
    "from rich.progress import track\n",
    "import cv2\n",
    "from sklearn.model_selection import train_test_split"
   ]
  },
  {
   "cell_type": "code",
   "execution_count": 2,
   "metadata": {},
   "outputs": [],
   "source": [
    "root_path = \"../data/raw_data/标注信息\""
   ]
  },
  {
   "cell_type": "code",
   "execution_count": 3,
   "metadata": {},
   "outputs": [
    {
     "name": "stdout",
     "output_type": "stream",
     "text": [
      "数据集总大小: 1151 1151\n"
     ]
    }
   ],
   "source": [
    "image_paths = glob(os.path.join(root_path, \"*.tif\"))\n",
    "ann_paths = [filename.replace(\"tif\", \"json\") for filename in image_paths]\n",
    "print(\"数据集总大小:\", len(image_paths), len(ann_paths))"
   ]
  },
  {
   "cell_type": "code",
   "execution_count": 4,
   "metadata": {},
   "outputs": [
    {
     "name": "stdout",
     "output_type": "stream",
     "text": [
      "920 231 920 231\n"
     ]
    }
   ],
   "source": [
    "image_train, image_test, ann_train, ann_test = train_test_split(\n",
    "    image_paths, ann_paths, train_size=0.8, random_state=42\n",
    ")\n",
    "print(len(image_train), len(image_test), len(ann_train), len(ann_test))"
   ]
  },
  {
   "cell_type": "code",
   "execution_count": 5,
   "metadata": {},
   "outputs": [],
   "source": [
    "def get_mask_by_json(filename: str) -> np.ndarray:\n",
    "    \"\"\"\n",
    "    将json文件转换为mask\n",
    "    \"\"\"\n",
    "    label_map = {\n",
    "        0: 0,\n",
    "        1: 1,\n",
    "        2: 2,\n",
    "        3: 2,\n",
    "        4: 2,\n",
    "        5: 3,\n",
    "    }\n",
    "    json_file = json.load(open(filename))\n",
    "    img_height = json_file[\"imageHeight\"]\n",
    "    img_width = json_file[\"imageWidth\"]\n",
    "    mask = np.zeros((img_height, img_width), dtype=\"int8\")\n",
    "    for shape in json_file[\"shapes\"]:\n",
    "        label = int(shape[\"label\"])\n",
    "        label = label_map[label]\n",
    "        points = np.array(shape[\"points\"]).astype(np.int32)\n",
    "        cv2.fillPoly(mask, [points], label)\n",
    "    return mask"
   ]
  },
  {
   "cell_type": "code",
   "execution_count": 6,
   "metadata": {},
   "outputs": [],
   "source": [
    "def json_to_image(json_path, image_path):\n",
    "    \"\"\"\n",
    "    将json文件中的标注信息转换为图片,并保存至指定路径\n",
    "    \"\"\"\n",
    "    mask = get_mask_by_json(json_path)\n",
    "    cv2.imwrite(image_path, mask)"
   ]
  },
  {
   "cell_type": "code",
   "execution_count": 7,
   "metadata": {},
   "outputs": [],
   "source": [
    "def create_dataset(\n",
    "    image_paths: List[str],\n",
    "    ann_paths: List[str],\n",
    "    phase: Literal[\"train\", \"val\"],\n",
    "    output_dir: str,\n",
    "):\n",
    "    \"\"\"\n",
    "    划分数据集，将标注信息转换为图片，并保存至指定路径\n",
    "    \"\"\"\n",
    "    base_path = os.path.join(output_dir, phase)\n",
    "    for image_path, ann_path in track(zip(image_paths, ann_paths),description=f\"{phase} dataset\"):\n",
    "        ann_save_path = os.path.join(\n",
    "            base_path, \"ann\",os.path.basename(ann_path).replace(\".json\", \".tif\")\n",
    "        )\n",
    "\n",
    "        # 将image复制到指定路径\n",
    "        new_image_path = os.path.join(base_path, \"img\",os.path.basename(image_path))\n",
    "        shutil.copy(image_path, new_image_path)\n",
    "\n",
    "        # 将ann保存到指定路径\n",
    "        json_to_image(ann_path, ann_save_path)"
   ]
  },
  {
   "cell_type": "code",
   "execution_count": 8,
   "metadata": {},
   "outputs": [
    {
     "data": {
      "application/vnd.jupyter.widget-view+json": {
       "model_id": "ef6a63ae8f3a499fbe50f041350e098a",
       "version_major": 2,
       "version_minor": 0
      },
      "text/plain": [
       "Output()"
      ]
     },
     "metadata": {},
     "output_type": "display_data"
    },
    {
     "data": {
      "text/html": [
       "<pre style=\"white-space:pre;overflow-x:auto;line-height:normal;font-family:Menlo,'DejaVu Sans Mono',consolas,'Courier New',monospace\"></pre>\n"
      ],
      "text/plain": []
     },
     "metadata": {},
     "output_type": "display_data"
    },
    {
     "data": {
      "text/html": [
       "<pre style=\"white-space:pre;overflow-x:auto;line-height:normal;font-family:Menlo,'DejaVu Sans Mono',consolas,'Courier New',monospace\">\n",
       "</pre>\n"
      ],
      "text/plain": [
       "\n"
      ]
     },
     "metadata": {},
     "output_type": "display_data"
    },
    {
     "data": {
      "application/vnd.jupyter.widget-view+json": {
       "model_id": "e1acb71f622748ca89ef10f7e5d74cbc",
       "version_major": 2,
       "version_minor": 0
      },
      "text/plain": [
       "Output()"
      ]
     },
     "metadata": {},
     "output_type": "display_data"
    },
    {
     "data": {
      "text/html": [
       "<pre style=\"white-space:pre;overflow-x:auto;line-height:normal;font-family:Menlo,'DejaVu Sans Mono',consolas,'Courier New',monospace\"></pre>\n"
      ],
      "text/plain": []
     },
     "metadata": {},
     "output_type": "display_data"
    },
    {
     "data": {
      "text/html": [
       "<pre style=\"white-space:pre;overflow-x:auto;line-height:normal;font-family:Menlo,'DejaVu Sans Mono',consolas,'Courier New',monospace\">\n",
       "</pre>\n"
      ],
      "text/plain": [
       "\n"
      ]
     },
     "metadata": {},
     "output_type": "display_data"
    }
   ],
   "source": [
    "root = \"../data/grass\"\n",
    "create_dataset(image_train,ann_train,\"train\",root)\n",
    "create_dataset(image_test,ann_test,\"val\",root)"
   ]
  },
  {
   "cell_type": "code",
   "execution_count": null,
   "metadata": {},
   "outputs": [],
   "source": []
  }
 ],
 "metadata": {
  "kernelspec": {
   "display_name": "pytorch",
   "language": "python",
   "name": "python3"
  },
  "language_info": {
   "codemirror_mode": {
    "name": "ipython",
    "version": 3
   },
   "file_extension": ".py",
   "mimetype": "text/x-python",
   "name": "python",
   "nbconvert_exporter": "python",
   "pygments_lexer": "ipython3",
   "version": "3.10.14"
  }
 },
 "nbformat": 4,
 "nbformat_minor": 2
}
